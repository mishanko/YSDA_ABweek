{
 "cells": [
  {
   "cell_type": "markdown",
   "metadata": {},
   "source": [
    "Вам даны данные следующего формата: для каждого события зафиксирован идентификатор пользователя (user_id) и сумма транзакции (gmv). Поскольку один пользователь может совершить несколько транзакций, исходные данные представляют собой детализированные (пособытийные), а не агрегированные (поюзерные) данные.\n",
    "\n",
    "Сагрегируйте данные до пользователя (тип агрегации: сумма). Найдите несмещенную оценку матожидания (выборочное среднее) и дисперсии."
   ]
  },
  {
   "cell_type": "code",
   "execution_count": 1,
   "metadata": {},
   "outputs": [],
   "source": [
    "import pandas as pd"
   ]
  },
  {
   "cell_type": "code",
   "execution_count": 2,
   "metadata": {},
   "outputs": [
    {
     "data": {
      "text/html": [
       "<div>\n",
       "<style scoped>\n",
       "    .dataframe tbody tr th:only-of-type {\n",
       "        vertical-align: middle;\n",
       "    }\n",
       "\n",
       "    .dataframe tbody tr th {\n",
       "        vertical-align: top;\n",
       "    }\n",
       "\n",
       "    .dataframe thead th {\n",
       "        text-align: right;\n",
       "    }\n",
       "</style>\n",
       "<table border=\"1\" class=\"dataframe\">\n",
       "  <thead>\n",
       "    <tr style=\"text-align: right;\">\n",
       "      <th></th>\n",
       "      <th>user_id</th>\n",
       "      <th>gmv</th>\n",
       "    </tr>\n",
       "  </thead>\n",
       "  <tbody>\n",
       "    <tr>\n",
       "      <th>0</th>\n",
       "      <td>guo0pdwqvg</td>\n",
       "      <td>506</td>\n",
       "    </tr>\n",
       "    <tr>\n",
       "      <th>1</th>\n",
       "      <td>guo0pdwqvg</td>\n",
       "      <td>760</td>\n",
       "    </tr>\n",
       "    <tr>\n",
       "      <th>2</th>\n",
       "      <td>guo0pdwqvg</td>\n",
       "      <td>633</td>\n",
       "    </tr>\n",
       "    <tr>\n",
       "      <th>3</th>\n",
       "      <td>guo0pdwqvg</td>\n",
       "      <td>506</td>\n",
       "    </tr>\n",
       "    <tr>\n",
       "      <th>4</th>\n",
       "      <td>guo0pdwqvg</td>\n",
       "      <td>760</td>\n",
       "    </tr>\n",
       "  </tbody>\n",
       "</table>\n",
       "</div>"
      ],
      "text/plain": [
       "      user_id  gmv\n",
       "0  guo0pdwqvg  506\n",
       "1  guo0pdwqvg  760\n",
       "2  guo0pdwqvg  633\n",
       "3  guo0pdwqvg  506\n",
       "4  guo0pdwqvg  760"
      ]
     },
     "execution_count": 2,
     "metadata": {},
     "output_type": "execute_result"
    }
   ],
   "source": [
    "df = pd.read_csv(\"synthetic_gmv_data_1.1.csv\")\n",
    "df.head()"
   ]
  },
  {
   "cell_type": "code",
   "execution_count": 3,
   "metadata": {},
   "outputs": [
    {
     "data": {
      "text/html": [
       "<div>\n",
       "<style scoped>\n",
       "    .dataframe tbody tr th:only-of-type {\n",
       "        vertical-align: middle;\n",
       "    }\n",
       "\n",
       "    .dataframe tbody tr th {\n",
       "        vertical-align: top;\n",
       "    }\n",
       "\n",
       "    .dataframe thead th {\n",
       "        text-align: right;\n",
       "    }\n",
       "</style>\n",
       "<table border=\"1\" class=\"dataframe\">\n",
       "  <thead>\n",
       "    <tr style=\"text-align: right;\">\n",
       "      <th></th>\n",
       "      <th>user_id</th>\n",
       "      <th>gmv</th>\n",
       "    </tr>\n",
       "  </thead>\n",
       "  <tbody>\n",
       "    <tr>\n",
       "      <th>0</th>\n",
       "      <td>0001ffmxo2</td>\n",
       "      <td>3766</td>\n",
       "    </tr>\n",
       "    <tr>\n",
       "      <th>1</th>\n",
       "      <td>000c2glbkl</td>\n",
       "      <td>2456</td>\n",
       "    </tr>\n",
       "    <tr>\n",
       "      <th>2</th>\n",
       "      <td>000c5yxi7t</td>\n",
       "      <td>700</td>\n",
       "    </tr>\n",
       "    <tr>\n",
       "      <th>3</th>\n",
       "      <td>000eg9ozf2</td>\n",
       "      <td>5082</td>\n",
       "    </tr>\n",
       "    <tr>\n",
       "      <th>4</th>\n",
       "      <td>000h7yt1ve</td>\n",
       "      <td>2539</td>\n",
       "    </tr>\n",
       "  </tbody>\n",
       "</table>\n",
       "</div>"
      ],
      "text/plain": [
       "      user_id   gmv\n",
       "0  0001ffmxo2  3766\n",
       "1  000c2glbkl  2456\n",
       "2  000c5yxi7t   700\n",
       "3  000eg9ozf2  5082\n",
       "4  000h7yt1ve  2539"
      ]
     },
     "execution_count": 3,
     "metadata": {},
     "output_type": "execute_result"
    }
   ],
   "source": [
    "df_user = df.groupby(\"user_id\").agg({\"gmv\": \"sum\"}).reset_index()\n",
    "df_user.head()"
   ]
  },
  {
   "cell_type": "code",
   "execution_count": 4,
   "metadata": {},
   "outputs": [
    {
     "data": {
      "text/plain": [
       "(np.float64(2750.847), np.float64(3646228.409))"
      ]
     },
     "execution_count": 4,
     "metadata": {},
     "output_type": "execute_result"
    }
   ],
   "source": [
    "round(df_user.gmv.mean(), 3), round(df_user.gmv.var(ddof=1), 3)"
   ]
  },
  {
   "cell_type": "markdown",
   "metadata": {},
   "source": [
    "---"
   ]
  },
  {
   "cell_type": "markdown",
   "metadata": {},
   "source": [
    "Используйте оценку матожидания и оценку дисперсии из предыдущей задачи для дизайна эксперимента.\n",
    "\n",
    "Предположим, мы хотим \"увидеть\" эффект в 1% с вероятностью ошибки первого рода 5% и вероятностью ошибки второго рода 20%.\n",
    "\n",
    "Разбиение на тестовую и контрольную группу у нас 1 к 3 (контроль в 3 раза больше теста). Предположим, что дисперсии в тестовой и контрольной группах одинаковые.\n",
    "\n",
    "Сколько всего пользователей должно быть в эксперименте?"
   ]
  },
  {
   "cell_type": "code",
   "execution_count": 5,
   "metadata": {},
   "outputs": [],
   "source": [
    "import math\n",
    "\n",
    "from scipy import stats"
   ]
  },
  {
   "cell_type": "code",
   "execution_count": 6,
   "metadata": {},
   "outputs": [],
   "source": [
    "def size_mde(sigma, effect, k = 1, alpha = 0.05, beta = 0.2):\n",
    "    dist = stats.norm(loc=0, scale=1)\n",
    "    const = (dist.ppf(1- alpha/2) + dist.ppf(1- beta))**2\n",
    "    var = sigma**2 \n",
    "    return const*(1+k)*var/(effect**2)"
   ]
  },
  {
   "cell_type": "code",
   "execution_count": 7,
   "metadata": {},
   "outputs": [
    {
     "data": {
      "text/plain": [
       "201706"
      ]
     },
     "execution_count": 7,
     "metadata": {},
     "output_type": "execute_result"
    }
   ],
   "source": [
    "s = size_mde(sigma=df_user.gmv.std(ddof=1), effect=df_user.gmv.mean()*0.01, k = 3, alpha=0.05, beta=0.2)\n",
    "math.ceil(s + s / 3)"
   ]
  },
  {
   "cell_type": "markdown",
   "metadata": {},
   "source": [
    "---"
   ]
  },
  {
   "cell_type": "markdown",
   "metadata": {},
   "source": [
    "Вам даны данные следующего формата: для каждого события зафиксирован идентификатор пользователя (user_id), сумма транзакции (gmv), группа эксперимента (group_name).\n",
    "\n",
    "Сагрегируйте данные до пользователя (тип агрегации: сумма). Мы проверяем гипотезу равенства средних поюзерных gmv.\n",
    "\n",
    "Посчитайте T-статистику. Найдите P-value, используя T-test.\n",
    "\n",
    "Используйте данные из файла synthetic_gmv_data_1.2.csv\n",
    "\n",
    "NB! Здесь и далее, если вы будете использовать встроенную функцию stats.ttest_ind, не забудьте добавить параметр equal_var=False. Эта функция использует поправки Уэлча на степени свободы, когда мы считаем \"руками\", то обычно используем упрощенную формулу для степеней свободы m+n−2m+n−2 (количество уников теста + количество уников контроля - 2). Поэтому ответы могут немного различаться. Оба варианта будут считаться верными."
   ]
  },
  {
   "cell_type": "code",
   "execution_count": 154,
   "metadata": {},
   "outputs": [
    {
     "data": {
      "text/html": [
       "<div>\n",
       "<style scoped>\n",
       "    .dataframe tbody tr th:only-of-type {\n",
       "        vertical-align: middle;\n",
       "    }\n",
       "\n",
       "    .dataframe tbody tr th {\n",
       "        vertical-align: top;\n",
       "    }\n",
       "\n",
       "    .dataframe thead th {\n",
       "        text-align: right;\n",
       "    }\n",
       "</style>\n",
       "<table border=\"1\" class=\"dataframe\">\n",
       "  <thead>\n",
       "    <tr style=\"text-align: right;\">\n",
       "      <th></th>\n",
       "      <th>user_id</th>\n",
       "      <th>gmv</th>\n",
       "      <th>group_name</th>\n",
       "    </tr>\n",
       "  </thead>\n",
       "  <tbody>\n",
       "    <tr>\n",
       "      <th>0</th>\n",
       "      <td>myo4ixol31</td>\n",
       "      <td>1428</td>\n",
       "      <td>test</td>\n",
       "    </tr>\n",
       "    <tr>\n",
       "      <th>1</th>\n",
       "      <td>myo4ixol31</td>\n",
       "      <td>1428</td>\n",
       "      <td>test</td>\n",
       "    </tr>\n",
       "    <tr>\n",
       "      <th>2</th>\n",
       "      <td>myo4ixol31</td>\n",
       "      <td>1071</td>\n",
       "      <td>test</td>\n",
       "    </tr>\n",
       "    <tr>\n",
       "      <th>3</th>\n",
       "      <td>myo4ixol31</td>\n",
       "      <td>1071</td>\n",
       "      <td>test</td>\n",
       "    </tr>\n",
       "    <tr>\n",
       "      <th>4</th>\n",
       "      <td>pkzf2889ww</td>\n",
       "      <td>351</td>\n",
       "      <td>test</td>\n",
       "    </tr>\n",
       "  </tbody>\n",
       "</table>\n",
       "</div>"
      ],
      "text/plain": [
       "      user_id   gmv group_name\n",
       "0  myo4ixol31  1428       test\n",
       "1  myo4ixol31  1428       test\n",
       "2  myo4ixol31  1071       test\n",
       "3  myo4ixol31  1071       test\n",
       "4  pkzf2889ww   351       test"
      ]
     },
     "execution_count": 154,
     "metadata": {},
     "output_type": "execute_result"
    }
   ],
   "source": [
    "df = pd.read_csv(\"synthetic_gmv_data_1.2.csv\")\n",
    "df.head()"
   ]
  },
  {
   "cell_type": "code",
   "execution_count": 9,
   "metadata": {},
   "outputs": [
    {
     "data": {
      "text/html": [
       "<div>\n",
       "<style scoped>\n",
       "    .dataframe tbody tr th:only-of-type {\n",
       "        vertical-align: middle;\n",
       "    }\n",
       "\n",
       "    .dataframe tbody tr th {\n",
       "        vertical-align: top;\n",
       "    }\n",
       "\n",
       "    .dataframe thead th {\n",
       "        text-align: right;\n",
       "    }\n",
       "</style>\n",
       "<table border=\"1\" class=\"dataframe\">\n",
       "  <thead>\n",
       "    <tr style=\"text-align: right;\">\n",
       "      <th></th>\n",
       "      <th>user_id</th>\n",
       "      <th>group_name</th>\n",
       "      <th>gmv</th>\n",
       "    </tr>\n",
       "  </thead>\n",
       "  <tbody>\n",
       "    <tr>\n",
       "      <th>0</th>\n",
       "      <td>00062h7u56</td>\n",
       "      <td>control</td>\n",
       "      <td>733</td>\n",
       "    </tr>\n",
       "    <tr>\n",
       "      <th>1</th>\n",
       "      <td>00074uxybk</td>\n",
       "      <td>test</td>\n",
       "      <td>3187</td>\n",
       "    </tr>\n",
       "    <tr>\n",
       "      <th>2</th>\n",
       "      <td>000ic5j18m</td>\n",
       "      <td>control</td>\n",
       "      <td>2933</td>\n",
       "    </tr>\n",
       "    <tr>\n",
       "      <th>3</th>\n",
       "      <td>000plmykri</td>\n",
       "      <td>test</td>\n",
       "      <td>1695</td>\n",
       "    </tr>\n",
       "    <tr>\n",
       "      <th>4</th>\n",
       "      <td>00174ganru</td>\n",
       "      <td>control</td>\n",
       "      <td>1496</td>\n",
       "    </tr>\n",
       "  </tbody>\n",
       "</table>\n",
       "</div>"
      ],
      "text/plain": [
       "      user_id group_name   gmv\n",
       "0  00062h7u56    control   733\n",
       "1  00074uxybk       test  3187\n",
       "2  000ic5j18m    control  2933\n",
       "3  000plmykri       test  1695\n",
       "4  00174ganru    control  1496"
      ]
     },
     "execution_count": 9,
     "metadata": {},
     "output_type": "execute_result"
    }
   ],
   "source": [
    "df_user = df.groupby([\"user_id\", \"group_name\"], as_index=False).agg({\"gmv\": \"sum\"})\n",
    "df_user.head()"
   ]
  },
  {
   "cell_type": "code",
   "execution_count": 10,
   "metadata": {},
   "outputs": [
    {
     "data": {
      "text/plain": [
       "(np.float64(2870.650366598778), np.float64(2847.2169990019756))"
      ]
     },
     "execution_count": 10,
     "metadata": {},
     "output_type": "execute_result"
    }
   ],
   "source": [
    "df_user.loc[df_user.group_name=='test'].gmv.mean(), df_user.loc[df_user.group_name=='control'].gmv.mean()"
   ]
  },
  {
   "cell_type": "code",
   "execution_count": 11,
   "metadata": {},
   "outputs": [
    {
     "data": {
      "text/plain": [
       "(np.float64(2.36), np.float64(0.018))"
      ]
     },
     "execution_count": 11,
     "metadata": {},
     "output_type": "execute_result"
    }
   ],
   "source": [
    "t_statistic, p_value = stats.ttest_ind(df_user.loc[df_user.group_name=='test'].gmv, df_user.loc[df_user.group_name=='control'].gmv, equal_var=False)\n",
    "round(t_statistic, 3), round(p_value, 3)"
   ]
  },
  {
   "cell_type": "markdown",
   "metadata": {},
   "source": [
    "---"
   ]
  },
  {
   "cell_type": "markdown",
   "metadata": {},
   "source": [
    "На тех же данных теперь проверим гипотезу равенства среднего чека.\n",
    "\n",
    "Посчитайте T-статистику, найдите P-value."
   ]
  },
  {
   "cell_type": "code",
   "execution_count": 12,
   "metadata": {},
   "outputs": [],
   "source": [
    "import numpy as np"
   ]
  },
  {
   "cell_type": "code",
   "execution_count": 13,
   "metadata": {},
   "outputs": [],
   "source": [
    "def safe_divide(x, y):\n",
    "    try:\n",
    "        return x / y\n",
    "    except ZeroDivisionError:\n",
    "        return np.nan"
   ]
  },
  {
   "cell_type": "code",
   "execution_count": 14,
   "metadata": {},
   "outputs": [
    {
     "data": {
      "text/html": [
       "<div>\n",
       "<style scoped>\n",
       "    .dataframe tbody tr th:only-of-type {\n",
       "        vertical-align: middle;\n",
       "    }\n",
       "\n",
       "    .dataframe tbody tr th {\n",
       "        vertical-align: top;\n",
       "    }\n",
       "\n",
       "    .dataframe thead tr th {\n",
       "        text-align: left;\n",
       "    }\n",
       "</style>\n",
       "<table border=\"1\" class=\"dataframe\">\n",
       "  <thead>\n",
       "    <tr>\n",
       "      <th></th>\n",
       "      <th>user_id</th>\n",
       "      <th>group_name</th>\n",
       "      <th colspan=\"2\" halign=\"left\">gmv</th>\n",
       "    </tr>\n",
       "    <tr>\n",
       "      <th></th>\n",
       "      <th></th>\n",
       "      <th></th>\n",
       "      <th>sum</th>\n",
       "      <th>count</th>\n",
       "    </tr>\n",
       "  </thead>\n",
       "  <tbody>\n",
       "    <tr>\n",
       "      <th>0</th>\n",
       "      <td>00062h7u56</td>\n",
       "      <td>control</td>\n",
       "      <td>733</td>\n",
       "      <td>1</td>\n",
       "    </tr>\n",
       "    <tr>\n",
       "      <th>1</th>\n",
       "      <td>00074uxybk</td>\n",
       "      <td>test</td>\n",
       "      <td>3187</td>\n",
       "      <td>3</td>\n",
       "    </tr>\n",
       "    <tr>\n",
       "      <th>2</th>\n",
       "      <td>000ic5j18m</td>\n",
       "      <td>control</td>\n",
       "      <td>2933</td>\n",
       "      <td>6</td>\n",
       "    </tr>\n",
       "    <tr>\n",
       "      <th>3</th>\n",
       "      <td>000plmykri</td>\n",
       "      <td>test</td>\n",
       "      <td>1695</td>\n",
       "      <td>5</td>\n",
       "    </tr>\n",
       "    <tr>\n",
       "      <th>4</th>\n",
       "      <td>00174ganru</td>\n",
       "      <td>control</td>\n",
       "      <td>1496</td>\n",
       "      <td>4</td>\n",
       "    </tr>\n",
       "  </tbody>\n",
       "</table>\n",
       "</div>"
      ],
      "text/plain": [
       "      user_id group_name   gmv      \n",
       "                           sum count\n",
       "0  00062h7u56    control   733     1\n",
       "1  00074uxybk       test  3187     3\n",
       "2  000ic5j18m    control  2933     6\n",
       "3  000plmykri       test  1695     5\n",
       "4  00174ganru    control  1496     4"
      ]
     },
     "execution_count": 14,
     "metadata": {},
     "output_type": "execute_result"
    }
   ],
   "source": [
    "df_user = df.groupby([\"user_id\", \"group_name\"], as_index=False).agg({\"gmv\": [\"sum\", \"count\"]})\n",
    "df_user.head()"
   ]
  },
  {
   "cell_type": "code",
   "execution_count": 238,
   "metadata": {},
   "outputs": [],
   "source": [
    "def delta_var(numerator, denominator):\n",
    "    \"\"\"\n",
    "    Функция для расчета дисперсии дельта-методом, numerator - вектор числитель, denominator - вектор знаменатель\n",
    "    \"\"\"\n",
    "    x = numerator\n",
    "    y = denominator\n",
    "    n = len(x)\n",
    "    mu_x = np.mean(x)\n",
    "    mu_y = np.mean(y)\n",
    "    var_x = np.var(x, ddof=1)\n",
    "    var_y = np.var(y, ddof=1)\n",
    "    cov_xy = np.cov(x, y, ddof=1)[0][1]    \n",
    "    delta_var = safe_divide(safe_divide(var_x,mu_y**2)  - cov_xy*safe_divide(mu_x,mu_y**3) + var_y*safe_divide(mu_x**2,mu_y**4), n)\n",
    "    return delta_var"
   ]
  },
  {
   "cell_type": "code",
   "execution_count": 16,
   "metadata": {},
   "outputs": [
    {
     "data": {
      "text/html": [
       "<div>\n",
       "<style scoped>\n",
       "    .dataframe tbody tr th:only-of-type {\n",
       "        vertical-align: middle;\n",
       "    }\n",
       "\n",
       "    .dataframe tbody tr th {\n",
       "        vertical-align: top;\n",
       "    }\n",
       "\n",
       "    .dataframe thead tr th {\n",
       "        text-align: left;\n",
       "    }\n",
       "</style>\n",
       "<table border=\"1\" class=\"dataframe\">\n",
       "  <thead>\n",
       "    <tr>\n",
       "      <th></th>\n",
       "      <th>gmv</th>\n",
       "    </tr>\n",
       "    <tr>\n",
       "      <th></th>\n",
       "      <th>sum</th>\n",
       "    </tr>\n",
       "  </thead>\n",
       "  <tbody>\n",
       "    <tr>\n",
       "      <th>1</th>\n",
       "      <td>3187</td>\n",
       "    </tr>\n",
       "    <tr>\n",
       "      <th>3</th>\n",
       "      <td>1695</td>\n",
       "    </tr>\n",
       "    <tr>\n",
       "      <th>8</th>\n",
       "      <td>1293</td>\n",
       "    </tr>\n",
       "    <tr>\n",
       "      <th>9</th>\n",
       "      <td>3862</td>\n",
       "    </tr>\n",
       "    <tr>\n",
       "      <th>11</th>\n",
       "      <td>765</td>\n",
       "    </tr>\n",
       "    <tr>\n",
       "      <th>...</th>\n",
       "      <td>...</td>\n",
       "    </tr>\n",
       "    <tr>\n",
       "      <th>196372</th>\n",
       "      <td>3809</td>\n",
       "    </tr>\n",
       "    <tr>\n",
       "      <th>196377</th>\n",
       "      <td>3938</td>\n",
       "    </tr>\n",
       "    <tr>\n",
       "      <th>196384</th>\n",
       "      <td>3422</td>\n",
       "    </tr>\n",
       "    <tr>\n",
       "      <th>196386</th>\n",
       "      <td>1141</td>\n",
       "    </tr>\n",
       "    <tr>\n",
       "      <th>196388</th>\n",
       "      <td>1923</td>\n",
       "    </tr>\n",
       "  </tbody>\n",
       "</table>\n",
       "<p>49100 rows × 1 columns</p>\n",
       "</div>"
      ],
      "text/plain": [
       "         gmv\n",
       "         sum\n",
       "1       3187\n",
       "3       1695\n",
       "8       1293\n",
       "9       3862\n",
       "11       765\n",
       "...      ...\n",
       "196372  3809\n",
       "196377  3938\n",
       "196384  3422\n",
       "196386  1141\n",
       "196388  1923\n",
       "\n",
       "[49100 rows x 1 columns]"
      ]
     },
     "execution_count": 16,
     "metadata": {},
     "output_type": "execute_result"
    }
   ],
   "source": [
    "df_user.loc[df_user.group_name=='test', [('gmv', 'sum')]]"
   ]
  },
  {
   "cell_type": "code",
   "execution_count": 17,
   "metadata": {},
   "outputs": [
    {
     "data": {
      "text/plain": [
       "(49100, 147291)"
      ]
     },
     "execution_count": 17,
     "metadata": {},
     "output_type": "execute_result"
    }
   ],
   "source": [
    "n = len(df_user.loc[df_user.group_name=='test'])\n",
    "m = len(df_user.loc[df_user.group_name=='control'])\n",
    "n, m"
   ]
  },
  {
   "cell_type": "code",
   "execution_count": 18,
   "metadata": {},
   "outputs": [
    {
     "data": {
      "text/plain": [
       "np.float64(2.1727173707917586)"
      ]
     },
     "execution_count": 18,
     "metadata": {},
     "output_type": "execute_result"
    }
   ],
   "source": [
    "test_var = delta_var(df_user.loc[df_user.group_name=='test', [('gmv', 'sum')]].values.flatten(), df_user.loc[df_user.group_name=='test', [('gmv', 'count')]].values.flatten())\n",
    "test_var"
   ]
  },
  {
   "cell_type": "code",
   "execution_count": 19,
   "metadata": {},
   "outputs": [
    {
     "data": {
      "text/plain": [
       "np.float64(0.714227879688474)"
      ]
     },
     "execution_count": 19,
     "metadata": {},
     "output_type": "execute_result"
    }
   ],
   "source": [
    "control_var = delta_var(df_user.loc[df_user.group_name=='control', [('gmv', 'sum')]].values.flatten(), df_user.loc[df_user.group_name=='control', [('gmv', 'count')]].values.flatten())\n",
    "control_var"
   ]
  },
  {
   "cell_type": "code",
   "execution_count": 20,
   "metadata": {},
   "outputs": [
    {
     "data": {
      "text/plain": [
       "np.float64(2870.650366598778)"
      ]
     },
     "execution_count": 20,
     "metadata": {},
     "output_type": "execute_result"
    }
   ],
   "source": [
    "np.mean(df_user.loc[df_user.group_name=='test', [('gmv', 'sum')]])"
   ]
  },
  {
   "cell_type": "code",
   "execution_count": 21,
   "metadata": {},
   "outputs": [],
   "source": [
    "sigma = np.sqrt(test_var + control_var)\n",
    "delta_estimator = safe_divide(np.mean(df_user.loc[df_user.group_name=='test', [('gmv', 'sum')]]), np.mean(df_user.loc[df_user.group_name=='test', [('gmv', 'count')]])) - safe_divide(np.mean(df_user.loc[df_user.group_name=='control', [('gmv', 'sum')]]), np.mean(df_user.loc[df_user.group_name=='control', [('gmv', 'count')]]))\n",
    "tt = safe_divide(delta_estimator, sigma)\n",
    "pvalue = 2*stats.t.sf(np.abs(tt),n+m-2)"
   ]
  },
  {
   "cell_type": "code",
   "execution_count": 22,
   "metadata": {},
   "outputs": [
    {
     "data": {
      "text/plain": [
       "(np.float64(2.344), np.float64(0.019))"
      ]
     },
     "execution_count": 22,
     "metadata": {},
     "output_type": "execute_result"
    }
   ],
   "source": [
    "round(tt, 3), round(pvalue, 3)"
   ]
  },
  {
   "cell_type": "markdown",
   "metadata": {},
   "source": [
    "---"
   ]
  },
  {
   "cell_type": "markdown",
   "metadata": {},
   "source": [
    "На тех же данных теперь проверим гипотезу равенства среднего чека с использованием линеаризации второго типа и классический t-test:\n",
    "\n",
    "Перейдем к линеаризованной метрике $L(u)=X/Y+1/Y*X(u)−¯¯¯X¯¯¯Y2Y(u)$, где\n",
    "\n",
    "$X(u)$ - значение числителя для пользователя uu\n",
    "\n",
    "$Y(u)$ - значение знаменателя для пользователя uu\n",
    "\n",
    "¯¯¯XXˉ - среднее в группе по числителю\n",
    "\n",
    "¯¯¯YYˉ - среднее в группе по знаменателю\n",
    "\n",
    "Посчитайте T-статистику, найдите P-value для линеаризованной метрики."
   ]
  },
  {
   "cell_type": "code",
   "execution_count": 73,
   "metadata": {},
   "outputs": [],
   "source": [
    "def linearization_type_2(x_num, x_denom, y_num, y_denom):\n",
    "    n = len(x_num)\n",
    "    m = len(y_num)\n",
    "    x_num_bar = np.mean(x_num)\n",
    "    y_num_bar = np.mean(y_num)\n",
    "    x_denom_bar = np.mean(x_denom)\n",
    "    y_denom_bar = np.mean(y_denom)\n",
    "    x_estimator = safe_divide(x_num_bar, x_denom_bar)\n",
    "    y_estimator = safe_divide(y_num_bar, y_denom_bar)\n",
    "    delta_estimator = x_estimator - y_estimator\n",
    "    x_linear = x_estimator  + safe_divide(1, x_denom_bar)*(np.array(x_num) - x_estimator*np.array(x_denom))\n",
    "    y_linear = y_estimator  + safe_divide(1, y_denom_bar)*(np.array(y_num) - y_estimator*np.array(y_denom))\n",
    "    t_stat, p_value = stats.ttest_ind(x_linear, y_linear, equal_var=False)\n",
    "    is_sig = 1\n",
    "    if p_value > 0.05:\n",
    "        is_sig = 0\n",
    "    return t_stat, p_value"
   ]
  },
  {
   "cell_type": "code",
   "execution_count": 74,
   "metadata": {},
   "outputs": [],
   "source": [
    "x_num = df_user.loc[df_user.group_name=='test', [('gmv', 'sum')]].values.flatten()\n",
    "x_denom = df_user.loc[df_user.group_name=='test', [('gmv', 'count')]].values.flatten()\n",
    "y_num = df_user.loc[df_user.group_name=='control', [('gmv', 'sum')]].values.flatten()\n",
    "y_denom = df_user.loc[df_user.group_name=='control', [('gmv', 'count')]].values.flatten()"
   ]
  },
  {
   "cell_type": "code",
   "execution_count": 76,
   "metadata": {},
   "outputs": [
    {
     "data": {
      "text/plain": [
       "(np.float64(2.344), np.float64(0.019))"
      ]
     },
     "execution_count": 76,
     "metadata": {},
     "output_type": "execute_result"
    }
   ],
   "source": [
    "tt, pvalue_linearization_type_2 = linearization_type_2(x_num, x_denom, y_num, y_denom)\n",
    "round(tt, 3), round(pvalue_linearization_type_2, 3)"
   ]
  },
  {
   "cell_type": "markdown",
   "metadata": {},
   "source": [
    "---"
   ]
  },
  {
   "cell_type": "markdown",
   "metadata": {},
   "source": [
    "На тех же данных постройте доверительные интервалы для:\n",
    "\n",
    "Δ gmv - разницы средних gmv\n",
    "\n",
    "Δ gmv, % - процентного изменения средних gmv\n",
    "\n",
    "Δ aov - разницы средних чеков\n",
    "\n",
    "Δ aov, % - процентного изменения средних чеков"
   ]
  },
  {
   "cell_type": "markdown",
   "metadata": {},
   "source": [
    "<img src=\"Screenshot 2025-07-27 at 15.57.52.png\" width=\"800\">\n"
   ]
  },
  {
   "cell_type": "code",
   "execution_count": 239,
   "metadata": {},
   "outputs": [
    {
     "data": {
      "text/html": [
       "<div>\n",
       "<style scoped>\n",
       "    .dataframe tbody tr th:only-of-type {\n",
       "        vertical-align: middle;\n",
       "    }\n",
       "\n",
       "    .dataframe tbody tr th {\n",
       "        vertical-align: top;\n",
       "    }\n",
       "\n",
       "    .dataframe thead th {\n",
       "        text-align: right;\n",
       "    }\n",
       "</style>\n",
       "<table border=\"1\" class=\"dataframe\">\n",
       "  <thead>\n",
       "    <tr style=\"text-align: right;\">\n",
       "      <th></th>\n",
       "      <th>user_id</th>\n",
       "      <th>group_name</th>\n",
       "      <th>gmv</th>\n",
       "    </tr>\n",
       "  </thead>\n",
       "  <tbody>\n",
       "    <tr>\n",
       "      <th>0</th>\n",
       "      <td>00062h7u56</td>\n",
       "      <td>control</td>\n",
       "      <td>733</td>\n",
       "    </tr>\n",
       "    <tr>\n",
       "      <th>1</th>\n",
       "      <td>00074uxybk</td>\n",
       "      <td>test</td>\n",
       "      <td>3187</td>\n",
       "    </tr>\n",
       "    <tr>\n",
       "      <th>2</th>\n",
       "      <td>000ic5j18m</td>\n",
       "      <td>control</td>\n",
       "      <td>2933</td>\n",
       "    </tr>\n",
       "    <tr>\n",
       "      <th>3</th>\n",
       "      <td>000plmykri</td>\n",
       "      <td>test</td>\n",
       "      <td>1695</td>\n",
       "    </tr>\n",
       "    <tr>\n",
       "      <th>4</th>\n",
       "      <td>00174ganru</td>\n",
       "      <td>control</td>\n",
       "      <td>1496</td>\n",
       "    </tr>\n",
       "  </tbody>\n",
       "</table>\n",
       "</div>"
      ],
      "text/plain": [
       "      user_id group_name   gmv\n",
       "0  00062h7u56    control   733\n",
       "1  00074uxybk       test  3187\n",
       "2  000ic5j18m    control  2933\n",
       "3  000plmykri       test  1695\n",
       "4  00174ganru    control  1496"
      ]
     },
     "execution_count": 239,
     "metadata": {},
     "output_type": "execute_result"
    }
   ],
   "source": [
    "df_user = df.groupby([\"user_id\", \"group_name\"], as_index=False).agg({\"gmv\": \"sum\"})\n",
    "df_user.head()"
   ]
  },
  {
   "cell_type": "code",
   "execution_count": 240,
   "metadata": {},
   "outputs": [
    {
     "data": {
      "text/plain": [
       "[np.float64(3.97539), np.float64(42.89134)]"
      ]
     },
     "execution_count": 240,
     "metadata": {},
     "output_type": "execute_result"
    }
   ],
   "source": [
    "alpha = 0.05\n",
    "n = df_user.loc[df_user.group_name=='test'].gmv.shape[0]\n",
    "m = df_user.loc[df_user.group_name=='control'].gmv.shape[0]\n",
    "\n",
    "delta = df_user.loc[df_user.group_name=='test'].gmv.mean() - df_user.loc[df_user.group_name=='control'].gmv.mean()\n",
    "sigma = np.sqrt(df_user.loc[df_user.group_name=='test'].gmv.var(ddof=1) / n + df_user.loc[df_user.group_name=='control'].gmv.var(ddof=1) / m)\n",
    "\n",
    "[round((delta - stats.t.ppf(1-alpha/2, df=n+m-2) * sigma), 5), round(delta + stats.t.ppf(1-alpha/2, df=n+m-2) * sigma, 5)]"
   ]
  },
  {
   "cell_type": "code",
   "execution_count": 241,
   "metadata": {},
   "outputs": [
    {
     "data": {
      "text/plain": [
       "(np.float64(3.9753946147033155), np.float64(42.891340578901335))"
      ]
     },
     "execution_count": 241,
     "metadata": {},
     "output_type": "execute_result"
    }
   ],
   "source": [
    "stats.t.interval(0.95, df=n+m-2, loc=delta, scale=sigma)"
   ]
  },
  {
   "cell_type": "code",
   "execution_count": 242,
   "metadata": {},
   "outputs": [
    {
     "data": {
      "text/plain": [
       "[np.float64(0.13824), np.float64(1.50782)]"
      ]
     },
     "execution_count": 242,
     "metadata": {},
     "output_type": "execute_result"
    }
   ],
   "source": [
    "n = df_user.loc[df_user.group_name=='test'].gmv.shape[0]\n",
    "m = df_user.loc[df_user.group_name=='control'].gmv.shape[0]\n",
    "\n",
    "x_num = df_user.loc[df_user.group_name=='test'].gmv\n",
    "y_num = df_user.loc[df_user.group_name=='control'].gmv\n",
    "\n",
    "var_x = np.var(x_num, ddof=1)\n",
    "var_y = np.var(y_num, ddof=1)  \n",
    "mu_x = np.mean(x_num)\n",
    "mu_y = np.mean(y_num)\n",
    "delta_var_ = safe_divide(var_x, n * mu_y**2) + safe_divide(var_y*mu_x**2, m * mu_y**4)\n",
    "sigma = np.sqrt(delta_var_)\n",
    "uplift_estimator = ((mu_x - mu_y)/mu_y) * 100\n",
    "[round(uplift_estimator - 100*stats.t.ppf(1-alpha/2, df=n+m-2) * sigma, 5), round(uplift_estimator + 100*stats.t.ppf(1-alpha/2, df=n+m-2) * sigma, 5)]"
   ]
  },
  {
   "cell_type": "code",
   "execution_count": 230,
   "metadata": {},
   "outputs": [
    {
     "data": {
      "text/plain": [
       "(np.float64(0.13823808422869932), np.float64(1.5078161227401643))"
      ]
     },
     "execution_count": 230,
     "metadata": {},
     "output_type": "execute_result"
    }
   ],
   "source": [
    "stats.t.interval(0.95, df=n+m-2, loc=uplift_estimator, scale=sigma*100)"
   ]
  },
  {
   "cell_type": "code",
   "execution_count": 243,
   "metadata": {},
   "outputs": [
    {
     "data": {
      "text/html": [
       "<div>\n",
       "<style scoped>\n",
       "    .dataframe tbody tr th:only-of-type {\n",
       "        vertical-align: middle;\n",
       "    }\n",
       "\n",
       "    .dataframe tbody tr th {\n",
       "        vertical-align: top;\n",
       "    }\n",
       "\n",
       "    .dataframe thead tr th {\n",
       "        text-align: left;\n",
       "    }\n",
       "</style>\n",
       "<table border=\"1\" class=\"dataframe\">\n",
       "  <thead>\n",
       "    <tr>\n",
       "      <th></th>\n",
       "      <th>user_id</th>\n",
       "      <th>group_name</th>\n",
       "      <th colspan=\"2\" halign=\"left\">gmv</th>\n",
       "    </tr>\n",
       "    <tr>\n",
       "      <th></th>\n",
       "      <th></th>\n",
       "      <th></th>\n",
       "      <th>sum</th>\n",
       "      <th>count</th>\n",
       "    </tr>\n",
       "  </thead>\n",
       "  <tbody>\n",
       "    <tr>\n",
       "      <th>0</th>\n",
       "      <td>00062h7u56</td>\n",
       "      <td>control</td>\n",
       "      <td>733</td>\n",
       "      <td>1</td>\n",
       "    </tr>\n",
       "    <tr>\n",
       "      <th>1</th>\n",
       "      <td>00074uxybk</td>\n",
       "      <td>test</td>\n",
       "      <td>3187</td>\n",
       "      <td>3</td>\n",
       "    </tr>\n",
       "    <tr>\n",
       "      <th>2</th>\n",
       "      <td>000ic5j18m</td>\n",
       "      <td>control</td>\n",
       "      <td>2933</td>\n",
       "      <td>6</td>\n",
       "    </tr>\n",
       "    <tr>\n",
       "      <th>3</th>\n",
       "      <td>000plmykri</td>\n",
       "      <td>test</td>\n",
       "      <td>1695</td>\n",
       "      <td>5</td>\n",
       "    </tr>\n",
       "    <tr>\n",
       "      <th>4</th>\n",
       "      <td>00174ganru</td>\n",
       "      <td>control</td>\n",
       "      <td>1496</td>\n",
       "      <td>4</td>\n",
       "    </tr>\n",
       "  </tbody>\n",
       "</table>\n",
       "</div>"
      ],
      "text/plain": [
       "      user_id group_name   gmv      \n",
       "                           sum count\n",
       "0  00062h7u56    control   733     1\n",
       "1  00074uxybk       test  3187     3\n",
       "2  000ic5j18m    control  2933     6\n",
       "3  000plmykri       test  1695     5\n",
       "4  00174ganru    control  1496     4"
      ]
     },
     "execution_count": 243,
     "metadata": {},
     "output_type": "execute_result"
    }
   ],
   "source": [
    "df_user = df.groupby([\"user_id\", \"group_name\"], as_index=False).agg({\"gmv\": [\"sum\", \"count\"]})\n",
    "df_user.head()"
   ]
  },
  {
   "cell_type": "code",
   "execution_count": 244,
   "metadata": {},
   "outputs": [],
   "source": [
    "x_num = df_user.loc[df_user.group_name=='test', [('gmv', 'sum')]].values.flatten()\n",
    "x_denom = df_user.loc[df_user.group_name=='test', [('gmv', 'count')]].values.flatten()\n",
    "y_num = df_user.loc[df_user.group_name=='control', [('gmv', 'sum')]].values.flatten()\n",
    "y_denom = df_user.loc[df_user.group_name=='control', [('gmv', 'count')]].values.flatten()"
   ]
  },
  {
   "cell_type": "code",
   "execution_count": 245,
   "metadata": {},
   "outputs": [
    {
     "data": {
      "text/plain": [
       "[np.float64(-0.7972906933246167), np.float64(8.762242156670485)]"
      ]
     },
     "execution_count": 245,
     "metadata": {},
     "output_type": "execute_result"
    }
   ],
   "source": [
    "n = len(x_num)\n",
    "m = len(y_num)\n",
    "test_var = delta_var(x_num, x_denom)\n",
    "control_var = delta_var(y_num, y_denom)\n",
    "sigma = np.sqrt(test_var + control_var)\n",
    "delta_estimator = safe_divide(np.mean(x_num), np.mean(x_denom)) - safe_divide(np.mean(y_num), np.mean(y_denom))\n",
    "[delta_estimator - stats.t.ppf(1-alpha/2, df=n+m-2) * sigma, delta_estimator + stats.t.ppf(1-alpha/2, df=n+m-2) * sigma]"
   ]
  },
  {
   "cell_type": "code",
   "execution_count": 246,
   "metadata": {},
   "outputs": [
    {
     "data": {
      "text/plain": [
       "(np.float64(-0.7972906933246167), np.float64(8.762242156670485))"
      ]
     },
     "execution_count": 246,
     "metadata": {},
     "output_type": "execute_result"
    }
   ],
   "source": [
    "stats.t.interval(0.95, df=n+m-2, loc=delta_estimator, scale=sigma)"
   ]
  },
  {
   "cell_type": "code",
   "execution_count": 247,
   "metadata": {},
   "outputs": [
    {
     "data": {
      "text/plain": [
       "[np.float64(-0.11482), np.float64(1.252309)]"
      ]
     },
     "execution_count": 247,
     "metadata": {},
     "output_type": "execute_result"
    }
   ],
   "source": [
    "n = len(x_num)\n",
    "m = len(y_num)\n",
    "test_var = delta_var(x_num, x_denom)\n",
    "control_var = delta_var(y_num, y_denom)\n",
    "R_t = safe_divide(np.mean(x_num), np.mean(x_denom))\n",
    "R_c = safe_divide(np.mean(y_num), np.mean(y_denom))\n",
    "delta_estimator = ((R_t - R_c) / R_c) * 100\n",
    "sigma = np.sqrt(safe_divide(test_var,(R_c**2)) + safe_divide((control_var*(R_t**2)),(R_c**4)))\n",
    "[round(delta_estimator - 100*stats.t.ppf(1-alpha/2, df=n+m-2) * sigma, 5), round(delta_estimator + 100*stats.t.ppf(1-alpha/2, df=n+m-2) * sigma, 6)]"
   ]
  },
  {
   "cell_type": "code",
   "execution_count": 248,
   "metadata": {},
   "outputs": [
    {
     "data": {
      "text/plain": [
       "(np.float64(-0.11482161875509334), np.float64(1.2523086903892158))"
      ]
     },
     "execution_count": 248,
     "metadata": {},
     "output_type": "execute_result"
    }
   ],
   "source": [
    "stats.t.interval(0.95, df=n+m-2, loc=delta_estimator, scale=sigma*100)\n"
   ]
  },
  {
   "cell_type": "markdown",
   "metadata": {},
   "source": [
    "---"
   ]
  },
  {
   "cell_type": "markdown",
   "metadata": {},
   "source": [
    "Вам даны данные следующего формата: поюзерный исторический gmv (gmv_hist), поюзерный gmv во время эксперимента (gmv_exp), группа эксперимента (group_name).\n",
    "\n",
    "Посчитайте коэффициент θ=Cov(X,Y)VarXθ=VarXCov(X,Y)​, используя все данные и теста, и контроля), где XX - gmv_hist, YY - gmv_exp.\n",
    "\n",
    "Найдите сuped значение метрики.\n",
    "\n",
    "Посчитайте P-value без применения CUPED и P-value c применением CUPED"
   ]
  },
  {
   "cell_type": "code",
   "execution_count": 129,
   "metadata": {},
   "outputs": [
    {
     "data": {
      "text/html": [
       "<div>\n",
       "<style scoped>\n",
       "    .dataframe tbody tr th:only-of-type {\n",
       "        vertical-align: middle;\n",
       "    }\n",
       "\n",
       "    .dataframe tbody tr th {\n",
       "        vertical-align: top;\n",
       "    }\n",
       "\n",
       "    .dataframe thead th {\n",
       "        text-align: right;\n",
       "    }\n",
       "</style>\n",
       "<table border=\"1\" class=\"dataframe\">\n",
       "  <thead>\n",
       "    <tr style=\"text-align: right;\">\n",
       "      <th></th>\n",
       "      <th>gmv_hist</th>\n",
       "      <th>gmv_exp</th>\n",
       "      <th>group_name</th>\n",
       "    </tr>\n",
       "  </thead>\n",
       "  <tbody>\n",
       "    <tr>\n",
       "      <th>0</th>\n",
       "      <td>200.78</td>\n",
       "      <td>123.19</td>\n",
       "      <td>test</td>\n",
       "    </tr>\n",
       "    <tr>\n",
       "      <th>1</th>\n",
       "      <td>363.80</td>\n",
       "      <td>134.49</td>\n",
       "      <td>control</td>\n",
       "    </tr>\n",
       "    <tr>\n",
       "      <th>2</th>\n",
       "      <td>39.93</td>\n",
       "      <td>116.72</td>\n",
       "      <td>control</td>\n",
       "    </tr>\n",
       "    <tr>\n",
       "      <th>3</th>\n",
       "      <td>150.99</td>\n",
       "      <td>177.67</td>\n",
       "      <td>control</td>\n",
       "    </tr>\n",
       "    <tr>\n",
       "      <th>4</th>\n",
       "      <td>208.93</td>\n",
       "      <td>65.30</td>\n",
       "      <td>test</td>\n",
       "    </tr>\n",
       "  </tbody>\n",
       "</table>\n",
       "</div>"
      ],
      "text/plain": [
       "   gmv_hist  gmv_exp group_name\n",
       "0    200.78   123.19       test\n",
       "1    363.80   134.49    control\n",
       "2     39.93   116.72    control\n",
       "3    150.99   177.67    control\n",
       "4    208.93    65.30       test"
      ]
     },
     "execution_count": 129,
     "metadata": {},
     "output_type": "execute_result"
    }
   ],
   "source": [
    "df = pd.read_csv(\"synthetic_gmv_data_1.3.csv\")\n",
    "df.head()"
   ]
  },
  {
   "cell_type": "code",
   "execution_count": 133,
   "metadata": {},
   "outputs": [
    {
     "data": {
      "text/plain": [
       "np.float64(0.5578881785090701)"
      ]
     },
     "execution_count": 133,
     "metadata": {},
     "output_type": "execute_result"
    }
   ],
   "source": [
    "theta = np.cov(df.gmv_hist, df.gmv_exp)[0][1] / df.gmv_hist.var(ddof=1)\n",
    "theta"
   ]
  },
  {
   "cell_type": "code",
   "execution_count": 134,
   "metadata": {},
   "outputs": [
    {
     "data": {
      "text/plain": [
       "0         111.267662\n",
       "1          31.620732\n",
       "2         194.533976\n",
       "3         193.524915\n",
       "4          48.830874\n",
       "             ...    \n",
       "249995     41.451801\n",
       "249996    111.754257\n",
       "249997    252.109044\n",
       "249998    179.266108\n",
       "249999    141.568223\n",
       "Length: 250000, dtype: float64"
      ]
     },
     "execution_count": 134,
     "metadata": {},
     "output_type": "execute_result"
    }
   ],
   "source": [
    "Z = df.gmv_exp - theta * df.gmv_hist + theta * df.gmv_hist.mean()\n",
    "Z"
   ]
  },
  {
   "cell_type": "code",
   "execution_count": 137,
   "metadata": {},
   "outputs": [
    {
     "data": {
      "text/plain": [
       "(np.float64(6935.0616580628575), np.float64(6935.061658062852))"
      ]
     },
     "execution_count": 137,
     "metadata": {},
     "output_type": "execute_result"
    }
   ],
   "source": [
    "np.var(Z, ddof=1), np.var(df.gmv_exp, ddof=1) * (1 - np.corrcoef(df.gmv_exp, df.gmv_hist)[0][1]**2)"
   ]
  },
  {
   "cell_type": "code",
   "execution_count": 145,
   "metadata": {},
   "outputs": [
    {
     "data": {
      "text/plain": [
       "(124838, 1)"
      ]
     },
     "execution_count": 145,
     "metadata": {},
     "output_type": "execute_result"
    }
   ],
   "source": [
    "df.loc[df.group_name=='test', ['gmv_hist']].shape"
   ]
  },
  {
   "cell_type": "code",
   "execution_count": 146,
   "metadata": {},
   "outputs": [
    {
     "data": {
      "text/plain": [
       "(125162, 1)"
      ]
     },
     "execution_count": 146,
     "metadata": {},
     "output_type": "execute_result"
    }
   ],
   "source": [
    "df.loc[df.group_name=='control', ['gmv_hist']].shape"
   ]
  },
  {
   "cell_type": "code",
   "execution_count": 143,
   "metadata": {},
   "outputs": [
    {
     "data": {
      "text/html": [
       "<div>\n",
       "<style scoped>\n",
       "    .dataframe tbody tr th:only-of-type {\n",
       "        vertical-align: middle;\n",
       "    }\n",
       "\n",
       "    .dataframe tbody tr th {\n",
       "        vertical-align: top;\n",
       "    }\n",
       "\n",
       "    .dataframe thead th {\n",
       "        text-align: right;\n",
       "    }\n",
       "</style>\n",
       "<table border=\"1\" class=\"dataframe\">\n",
       "  <thead>\n",
       "    <tr style=\"text-align: right;\">\n",
       "      <th></th>\n",
       "      <th>gmv_hist</th>\n",
       "    </tr>\n",
       "  </thead>\n",
       "  <tbody>\n",
       "    <tr>\n",
       "      <th>0</th>\n",
       "      <td>NaN</td>\n",
       "    </tr>\n",
       "    <tr>\n",
       "      <th>1</th>\n",
       "      <td>NaN</td>\n",
       "    </tr>\n",
       "    <tr>\n",
       "      <th>2</th>\n",
       "      <td>NaN</td>\n",
       "    </tr>\n",
       "    <tr>\n",
       "      <th>3</th>\n",
       "      <td>NaN</td>\n",
       "    </tr>\n",
       "    <tr>\n",
       "      <th>4</th>\n",
       "      <td>NaN</td>\n",
       "    </tr>\n",
       "    <tr>\n",
       "      <th>...</th>\n",
       "      <td>...</td>\n",
       "    </tr>\n",
       "    <tr>\n",
       "      <th>249995</th>\n",
       "      <td>NaN</td>\n",
       "    </tr>\n",
       "    <tr>\n",
       "      <th>249996</th>\n",
       "      <td>NaN</td>\n",
       "    </tr>\n",
       "    <tr>\n",
       "      <th>249997</th>\n",
       "      <td>NaN</td>\n",
       "    </tr>\n",
       "    <tr>\n",
       "      <th>249998</th>\n",
       "      <td>NaN</td>\n",
       "    </tr>\n",
       "    <tr>\n",
       "      <th>249999</th>\n",
       "      <td>NaN</td>\n",
       "    </tr>\n",
       "  </tbody>\n",
       "</table>\n",
       "<p>250000 rows × 1 columns</p>\n",
       "</div>"
      ],
      "text/plain": [
       "        gmv_hist\n",
       "0            NaN\n",
       "1            NaN\n",
       "2            NaN\n",
       "3            NaN\n",
       "4            NaN\n",
       "...          ...\n",
       "249995       NaN\n",
       "249996       NaN\n",
       "249997       NaN\n",
       "249998       NaN\n",
       "249999       NaN\n",
       "\n",
       "[250000 rows x 1 columns]"
      ]
     },
     "execution_count": 143,
     "metadata": {},
     "output_type": "execute_result"
    }
   ],
   "source": [
    "X_pre = df.loc[df.group_name=='test', ['gmv_hist']] - df.loc[df.group_name=='control', ['gmv_hist']]\n",
    "X_pre"
   ]
  },
  {
   "cell_type": "code",
   "execution_count": 139,
   "metadata": {},
   "outputs": [
    {
     "data": {
      "text/plain": [
       "gmv_exp    0.533918\n",
       "dtype: float64"
      ]
     },
     "execution_count": 139,
     "metadata": {},
     "output_type": "execute_result"
    }
   ],
   "source": [
    "Y = df.loc[df.group_name=='test', ['gmv_exp']].mean() - df.loc[df.group_name=='control', ['gmv_exp']].mean()\n",
    "Y"
   ]
  },
  {
   "cell_type": "code",
   "execution_count": 148,
   "metadata": {},
   "outputs": [
    {
     "data": {
      "text/plain": [
       "0          11.177212\n",
       "1         -68.469719\n",
       "2          94.443525\n",
       "3          93.434464\n",
       "4         -51.259577\n",
       "             ...    \n",
       "249995    -58.638650\n",
       "249996     11.663806\n",
       "249997    152.018593\n",
       "249998     79.175657\n",
       "249999     41.477772\n",
       "Length: 250000, dtype: float64"
      ]
     },
     "execution_count": 148,
     "metadata": {},
     "output_type": "execute_result"
    }
   ],
   "source": [
    "Y_cuped = df.loc[:, 'gmv_exp'] - theta * df.loc[:, 'gmv_hist']\n",
    "Y_cuped"
   ]
  },
  {
   "cell_type": "code",
   "execution_count": 149,
   "metadata": {},
   "outputs": [],
   "source": [
    "group_control = (df.group_name == 'control')\n",
    "group_test = (df.group_name == 'test')"
   ]
  },
  {
   "cell_type": "code",
   "execution_count": 151,
   "metadata": {},
   "outputs": [
    {
     "data": {
      "text/plain": [
       "np.float64(0.233)"
      ]
     },
     "execution_count": 151,
     "metadata": {},
     "output_type": "execute_result"
    }
   ],
   "source": [
    "_, pvalue_tt = stats.ttest_ind(df.loc[df.group_name=='test', 'gmv_exp'], df.loc[df.group_name=='control', 'gmv_exp'])\n",
    "round(pvalue_tt, 3)"
   ]
  },
  {
   "cell_type": "code",
   "execution_count": 152,
   "metadata": {},
   "outputs": [
    {
     "data": {
      "text/plain": [
       "np.float64(0.047)"
      ]
     },
     "execution_count": 152,
     "metadata": {},
     "output_type": "execute_result"
    }
   ],
   "source": [
    "_, pvalue_cuped = stats.ttest_ind(Y_cuped[group_test], Y_cuped[group_control], equal_var=False)\n",
    "round(pvalue_cuped, 3)"
   ]
  }
 ],
 "metadata": {
  "kernelspec": {
   "display_name": "ysda-abweek",
   "language": "python",
   "name": "python3"
  },
  "language_info": {
   "codemirror_mode": {
    "name": "ipython",
    "version": 3
   },
   "file_extension": ".py",
   "mimetype": "text/x-python",
   "name": "python",
   "nbconvert_exporter": "python",
   "pygments_lexer": "ipython3",
   "version": "3.11.2"
  }
 },
 "nbformat": 4,
 "nbformat_minor": 2
}
