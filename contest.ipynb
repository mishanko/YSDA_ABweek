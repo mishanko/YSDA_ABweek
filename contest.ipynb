{
 "cells": [
  {
   "cell_type": "code",
   "execution_count": 5,
   "metadata": {},
   "outputs": [
    {
     "data": {
      "text/plain": [
       "(0.4677152633666992, 0.12754154205322266, 0.4047431945800781)"
      ]
     },
     "execution_count": 5,
     "metadata": {},
     "output_type": "execute_result"
    }
   ],
   "source": [
    "from collections import defaultdict\n",
    "\n",
    "def probability_X_gt_Y(n: int):\n",
    "    if n <= 1:\n",
    "        return 0.0, 1.0, 0.0\n",
    "\n",
    "    probs = {(1, 0): 0.5, (0, 0): 0.5}\n",
    "    for _ in range(2, n+1):\n",
    "        new_probs = defaultdict(float)\n",
    "        for (last, diff), prob in probs.items():\n",
    "            if last == 1:\n",
    "                new_probs[(1, diff-1)] += prob * 0.5\n",
    "                new_probs[(0, diff+1)] += prob * 0.5\n",
    "            else:\n",
    "                new_probs[(1, diff)] += prob * 0.5\n",
    "                new_probs[(0, diff)] += prob * 0.5\n",
    "\n",
    "        probs = new_probs\n",
    "\n",
    "    total_or = 0\n",
    "    total_oo = 0\n",
    "\n",
    "    for (last, diff), prob in probs.items():\n",
    "        if diff > 0:\n",
    "            total_or += prob\n",
    "        elif diff < 0:\n",
    "            total_oo += prob\n",
    "    return total_or, 1-total_or-total_oo, total_oo\n",
    "\n",
    "probability_X_gt_Y(20)\n",
    "                "
   ]
  },
  {
   "cell_type": "code",
   "execution_count": 82,
   "metadata": {},
   "outputs": [
    {
     "data": {
      "text/plain": [
       "[{'query': 'okna',\n",
       "  'results': [{'position': 0,\n",
       "    'url': 'okna-msk.ru',\n",
       "    'relevance': 0.95,\n",
       "    'cost': 77},\n",
       "   {'position': 1, 'url': 'okna-pvh.ru', 'relevance': 0.95, 'cost': 70},\n",
       "   {'position': 2, 'url': 'ne-okna.ru', 'relevance': 0.3, 'cost': 100},\n",
       "   {'position': 3, 'url': 'best-okna.ru', 'relevance': 0.1, 'cost': 0}]},\n",
       " {'query': 'lego',\n",
       "  'results': [{'position': 0, 'url': 'lego.ru', 'relevance': 0.95, 'cost': 15},\n",
       "   {'position': 1, 'url': 'lego-mir.ru', 'relevance': 0.7, 'cost': 30},\n",
       "   {'position': 2, 'url': 'disney.ru', 'relevance': 0.3, 'cost': 100}]}]"
      ]
     },
     "execution_count": 82,
     "metadata": {},
     "output_type": "execute_result"
    }
   ],
   "source": [
    "import json\n",
    "\n",
    "with open(\"01\", \"rb\") as f:\n",
    "    a = json.load(f)\n",
    "\n",
    "serpset = a['serpset']\n",
    "new_docs = a['new_documents']\n",
    "serpset"
   ]
  },
  {
   "cell_type": "code",
   "execution_count": 83,
   "metadata": {},
   "outputs": [
    {
     "data": {
      "text/plain": [
       "{'okna': [{'position': 0, 'url': 'okna-msk.ru', 'relevance': 0.95, 'cost': 77},\n",
       "  {'position': 1, 'url': 'okna-pvh.ru', 'relevance': 0.95, 'cost': 70},\n",
       "  {'position': 2, 'url': 'ne-okna.ru', 'relevance': 0.3, 'cost': 100},\n",
       "  {'position': 3, 'url': 'best-okna.ru', 'relevance': 0.1, 'cost': 0}],\n",
       " 'lego': [{'position': 0, 'url': 'lego.ru', 'relevance': 0.95, 'cost': 15},\n",
       "  {'position': 1, 'url': 'lego-mir.ru', 'relevance': 0.7, 'cost': 30},\n",
       "  {'position': 2, 'url': 'disney.ru', 'relevance': 0.3, 'cost': 100}]}"
      ]
     },
     "execution_count": 83,
     "metadata": {},
     "output_type": "execute_result"
    }
   ],
   "source": [
    "serpset_query_map = {s['query']: s['results'] for s in serpset}\n",
    "serpset_query_map"
   ]
  },
  {
   "cell_type": "code",
   "execution_count": 84,
   "metadata": {},
   "outputs": [],
   "source": [
    "def update_pos(positions, l, query):\n",
    "    for i, pos in enumerate(positions):\n",
    "        if i == l:\n",
    "            break\n",
    "        pos['position'] = i\n",
    "        pos['query'] = query\n",
    "        positions[i] = pos\n",
    "    positions = positions[:l]\n",
    "    return positions    "
   ]
  },
  {
   "cell_type": "code",
   "execution_count": null,
   "metadata": {},
   "outputs": [
    {
     "name": "stdout",
     "output_type": "stream",
     "text": [
      "4\n",
      "4\n",
      "3\n",
      "3\n"
     ]
    }
   ],
   "source": [
    "for doc in new_docs:\n",
    "    if doc['query'] not in serpset_query_map:\n",
    "        continue\n",
    "\n",
    "    curr_positions = serpset_query_map[doc['query']]\n",
    "    if doc['relevance'] < curr_positions[-1]['relevance']:\n",
    "        continue\n",
    "\n",
    "    l = len(curr_positions)\n",
    "    # print(l)\n",
    "    for i, pos in enumerate(curr_positions[:]):\n",
    "        if doc['relevance'] >= pos['relevance'] and doc['cost'] >= pos['cost']:\n",
    "            curr_positions.insert(i, doc)\n",
    "            break\n",
    "    # print(l)\n",
    "\n",
    "    # serpset_query_map[doc['query']] = curr_positions\n",
    "    serpset_query_map[doc['query']] = update_pos(curr_positions, l, doc['query'])"
   ]
  },
  {
   "cell_type": "code",
   "execution_count": 87,
   "metadata": {},
   "outputs": [
    {
     "data": {
      "text/plain": [
       "[{'position': 0,\n",
       "  'url': 'lego.ru',\n",
       "  'relevance': 0.95,\n",
       "  'cost': 15,\n",
       "  'query': 'lego'},\n",
       " {'position': 1,\n",
       "  'url': 'lego-mir.ru',\n",
       "  'relevance': 0.7,\n",
       "  'cost': 30,\n",
       "  'query': 'lego'},\n",
       " {'position': 2,\n",
       "  'url': 'disney.ru',\n",
       "  'relevance': 0.3,\n",
       "  'cost': 100,\n",
       "  'query': 'lego'}]"
      ]
     },
     "execution_count": 87,
     "metadata": {},
     "output_type": "execute_result"
    }
   ],
   "source": [
    "serpset_query_map['lego']"
   ]
  },
  {
   "cell_type": "code",
   "execution_count": 75,
   "metadata": {},
   "outputs": [
    {
     "data": {
      "text/plain": [
       "[{'query': 'weather', 'url': 'yandex.ru/pogoda', 'relevance': 1, 'cost': 0},\n",
       " {'query': 'okna',\n",
       "  'url': 'yandex.ru/okna',\n",
       "  'relevance': 1,\n",
       "  'cost': 100,\n",
       "  'position': 0},\n",
       " {'query': 'lego', 'url': 'yandex.ru/lego', 'relevance': 0.4, 'cost': 10}]"
      ]
     },
     "execution_count": 75,
     "metadata": {},
     "output_type": "execute_result"
    }
   ],
   "source": [
    "new_docs"
   ]
  },
  {
   "cell_type": "code",
   "execution_count": 4,
   "metadata": {},
   "outputs": [
    {
     "data": {
      "text/plain": [
       "{'query': 'okna',\n",
       " 'results': [{'position': 0,\n",
       "   'url': 'okna-msk.ru',\n",
       "   'relevance': 0.95,\n",
       "   'cost': 77},\n",
       "  {'position': 1, 'url': 'okna-pvh.ru', 'relevance': 0.95, 'cost': 70},\n",
       "  {'position': 2, 'url': 'ne-okna.ru', 'relevance': 0.3, 'cost': 100},\n",
       "  {'position': 3, 'url': 'best-okna.ru', 'relevance': 0.1, 'cost': 0}]}"
      ]
     },
     "execution_count": 4,
     "metadata": {},
     "output_type": "execute_result"
    }
   ],
   "source": [
    "serpset_okna = serpset[0]\n",
    "serpset_okna"
   ]
  },
  {
   "cell_type": "code",
   "execution_count": 97,
   "metadata": {},
   "outputs": [
    {
     "data": {
      "text/plain": [
       "338.809971349197"
      ]
     },
     "execution_count": 97,
     "metadata": {},
     "output_type": "execute_result"
    }
   ],
   "source": [
    "def current_relevance_cost(positions):\n",
    "    relevance = 0\n",
    "    cost = 0\n",
    "    for i, pos in enumerate(positions):\n",
    "        rel = pos['relevance']\n",
    "        c = pos['cost']\n",
    "        relevance += rel / (i+1)\n",
    "        cost += c / (i+1)**0.5\n",
    "    return relevance, cost\n",
    "\n",
    "\n",
    "ans = 0\n",
    "for k in serpset_query_map:\n",
    "    # print(k)\n",
    "    ans += current_relevance_cost(serpset_query_map[k])[1]\n",
    "# current_relevance_cost(serpset_query_map['okna'])[1] + current_relevance_cost(serpset_query_map['lego'])[1]\n",
    "ans"
   ]
  },
  {
   "cell_type": "code",
   "execution_count": null,
   "metadata": {},
   "outputs": [
    {
     "name": "stdout",
     "output_type": "stream",
     "text": [
      "338.81\n"
     ]
    }
   ],
   "source": [
    "import json\n",
    "import math\n",
    "from typing import List, Dict, Any\n",
    "\n",
    "def calculate_rel_dcg(results: List[Dict]) -> float:\n",
    "    \"\"\"Вычисляет RelDCG для списка результатов\"\"\"\n",
    "    return sum(doc['relevance'] / (i + 1) for i, doc in enumerate(results))\n",
    "\n",
    "def calculate_revenue(results: List[Dict]) -> float:\n",
    "    \"\"\"Вычисляет Revenue для списка результатов\"\"\"\n",
    "    return sum(doc['cost'] / math.sqrt(i + 1) for i, doc in enumerate(results))\n",
    "\n",
    "def find_best_insertion_position(original_results: List[Dict], new_doc: Dict) -> tuple:\n",
    "    \"\"\"Находит лучшую позицию для вставки нового документа\"\"\"\n",
    "    original_rel_dcg = calculate_rel_dcg(original_results)\n",
    "    original_revenue = calculate_revenue(original_results)\n",
    "    \n",
    "    best_position = -1\n",
    "    best_revenue_gain = -float('inf')\n",
    "    best_results = None\n",
    "    \n",
    "    # Пробуем вставить на каждую возможную позицию\n",
    "    for pos in range(len(original_results)):\n",
    "        # Создаем новую выдачу: вставляем новый документ, удаляем последний\n",
    "        new_results = original_results[:pos] + [new_doc] + original_results[pos:-1]\n",
    "        \n",
    "        # Проверяем, что качество не ухудшилось\n",
    "        new_rel_dcg = calculate_rel_dcg(new_results)\n",
    "        if new_rel_dcg < original_rel_dcg:\n",
    "            continue\n",
    "        \n",
    "        # Вычисляем прирост выручки\n",
    "        new_revenue = calculate_revenue(new_results)\n",
    "        revenue_gain = new_revenue - original_revenue\n",
    "        \n",
    "        if revenue_gain > best_revenue_gain:\n",
    "            best_revenue_gain = revenue_gain\n",
    "            best_position = pos\n",
    "            best_results = new_results\n",
    "    \n",
    "    return best_position, best_results, best_revenue_gain\n",
    "\n",
    "def optimize_serp(data: Dict[str, Any]) -> float:\n",
    "    \"\"\"Оптимизирует поисковую выдачу и возвращает максимальную суммарную выручку\"\"\"\n",
    "    serpset = data['serpset']\n",
    "    new_documents = data['new_documents']\n",
    "    \n",
    "    # Группируем новые документы по запросам\n",
    "    new_docs_by_query = {}\n",
    "    for doc in new_documents:\n",
    "        query = doc['query']\n",
    "        if query not in new_docs_by_query:\n",
    "            new_docs_by_query[query] = []\n",
    "        new_docs_by_query[query].append(doc)\n",
    "    \n",
    "    total_revenue = 0\n",
    "    \n",
    "    # Обрабатываем каждый запрос\n",
    "    for serp in serpset:\n",
    "        query = serp['query']\n",
    "        results = serp['results'].copy()\n",
    "        \n",
    "        # Если есть новые документы для этого запроса\n",
    "        if query in new_docs_by_query:\n",
    "            # Сортируем новые документы по убыванию потенциальной выгоды\n",
    "            candidates = new_docs_by_query[query].copy()\n",
    "            candidates.sort(key=lambda x: x['relevance'] * x['cost'], reverse=True)\n",
    "            \n",
    "            # Пробуем вставить каждый документ\n",
    "            for new_doc in candidates:\n",
    "                best_pos, best_results, revenue_gain = find_best_insertion_position(results, new_doc)\n",
    "                if best_pos != -1 and revenue_gain > 0:\n",
    "                    results = best_results\n",
    "        \n",
    "        # Добавляем выручку от этой выдачи\n",
    "        total_revenue += calculate_revenue(results)\n",
    "    \n",
    "    return total_revenue\n",
    "\n",
    "with open(\"input.txt\", \"rb\") as f:\n",
    "    data = json.load(f)\n",
    "result = optimize_serp(data)\n",
    "print(f\"{result:.2f}\")\n",
    "\n",
    "# Пример использования\n",
    "example_data = {\n",
    "    \"serpset\": [\n",
    "        {\n",
    "            \"query\": \"okna\",\n",
    "            \"results\": [\n",
    "                {\"position\": 0, \"url\": \"okna-msk.ru\", \"relevance\": 0.95, \"cost\": 77},\n",
    "                {\"position\": 1, \"url\": \"okna-pvh.ru\", \"relevance\": 0.95, \"cost\": 70},\n",
    "                {\"position\": 2, \"url\": \"ne-okna.ru\", \"relevance\": 0.3, \"cost\": 100},\n",
    "                {\"position\": 3, \"url\": \"best-okna.ru\", \"relevance\": 0.1, \"cost\": 0}\n",
    "            ]\n",
    "        },\n",
    "        {\n",
    "            \"query\": \"lego\",\n",
    "            \"results\": [\n",
    "                {\"position\": 0, \"url\": \"lego.ru\", \"relevance\": 0.95, \"cost\": 15},\n",
    "                {\"position\": 1, \"url\": \"lego-mir.ru\", \"relevance\": 0.7, \"cost\": 30},\n",
    "                {\"position\": 2, \"url\": \"disney.ru\", \"relevance\": 0.3, \"cost\": 100}\n",
    "            ]\n",
    "        }\n",
    "    ],\n",
    "    \"new_documents\": [\n",
    "        {\"query\": \"weather\", \"url\": \"yandex.ru/pogoda\", \"relevance\": 1, \"cost\": 0},\n",
    "        {\"query\": \"okna\", \"url\": \"yandex.ru/okna\", \"relevance\": 1, \"cost\": 100},\n",
    "        {\"query\": \"lego\", \"url\": \"yandex.ru/lego\", \"relevance\": 0.4, \"cost\": 10}\n",
    "    ]\n",
    "}\n",
    "# print(f\"Максимальная суммарная выручка: {result:.2f}\")\n",
    "\n",
    "# # Проверим вычисления вручную\n",
    "# print(\"\\nПроверка вычислений:\")\n",
    "\n",
    "# # Исходная выдача для \"okna\"\n",
    "# okna_original = [\n",
    "#     {\"url\": \"okna-msk.ru\", \"relevance\": 0.95, \"cost\": 77},\n",
    "#     {\"url\": \"okna-pvh.ru\", \"relevance\": 0.95, \"cost\": 70}, \n",
    "#     {\"url\": \"ne-okna.ru\", \"relevance\": 0.3, \"cost\": 100},\n",
    "#     {\"url\": \"best-okna.ru\", \"relevance\": 0.1, \"cost\": 0}\n",
    "# ]\n",
    "\n",
    "# print(\"Okna original:\")\n",
    "# print(f\"RelDCG = {calculate_rel_dcg(okna_original):.4f}\")\n",
    "# print(f\"Revenue = {calculate_revenue(okna_original):.2f}\")\n",
    "\n",
    "# # Проверим вставку yandex.ru/okna на разные позиции\n",
    "# new_okna_doc = {\"url\": \"yandex.ru/okna\", \"relevance\": 1, \"cost\": 100}\n",
    "\n",
    "# for pos in range(4):\n",
    "#     new_results = okna_original[:pos] + [new_okna_doc] + okna_original[pos:-1]\n",
    "#     rel_dcg = calculate_rel_dcg(new_results)\n",
    "#     revenue = calculate_revenue(new_results)\n",
    "#     print(f\"Позиция {pos}: RelDCG={rel_dcg:.4f}, Revenue={revenue:.2f}, Gain={revenue - calculate_revenue(okna_original):.2f}\")\n",
    "\n",
    "# # Исходная выдача для \"lego\"\n",
    "# lego_original = [\n",
    "#     {\"url\": \"lego.ru\", \"relevance\": 0.95, \"cost\": 15},\n",
    "#     {\"url\": \"lego-mir.ru\", \"relevance\": 0.7, \"cost\": 30},\n",
    "#     {\"url\": \"disney.ru\", \"relevance\": 0.3, \"cost\": 100}\n",
    "# ]\n",
    "\n",
    "# print(f\"\\nLego original:\")\n",
    "# print(f\"RelDCG = {calculate_rel_dcg(lego_original):.4f}\")\n",
    "# print(f\"Revenue = {calculate_revenue(lego_original):.2f}\")\n",
    "\n",
    "# # Проверим вставку yandex.ru/lego\n",
    "# new_lego_doc = {\"url\": \"yandex.ru/lego\", \"relevance\": 0.4, \"cost\": 10}\n",
    "\n",
    "# for pos in range(3):\n",
    "#     new_results = lego_original[:pos] + [new_lego_doc] + lego_original[pos:-1]\n",
    "#     rel_dcg = calculate_rel_dcg(new_results)\n",
    "#     revenue = calculate_revenue(new_results)\n",
    "#     gain = revenue - calculate_revenue(lego_original)\n",
    "#     quality_ok = rel_dcg >= calculate_rel_dcg(lego_original)\n",
    "#     print(f\"Позиция {pos}: RelDCG={rel_dcg:.4f}, Revenue={revenue:.2f}, Gain={gain:.2f}, Quality OK: {quality_ok}\")\n",
    "\n",
    "# print(f\"\\nОбщий исходный Revenue: {calculate_revenue(okna_original) + calculate_revenue(lego_original):.2f}\")\n",
    "\n",
    "# # Дополнительный анализ для проверки\n",
    "# print(\"\\nДетальный анализ:\")\n",
    "\n",
    "# def analyze_query(serp, new_docs_for_query):\n",
    "#     \"\"\"Анализирует оптимизацию для конкретного запроса\"\"\"\n",
    "#     print(f\"\\nЗапрос: {serp['query']}\")\n",
    "#     original_results = serp['results']\n",
    "    \n",
    "#     print(f\"Исходная RelDCG: {calculate_rel_dcg(original_results):.4f}\")\n",
    "#     print(f\"Исходный Revenue: {calculate_revenue(original_results):.2f}\")\n",
    "    \n",
    "#     if new_docs_for_query:\n",
    "#         for new_doc in new_docs_for_query:\n",
    "#             best_pos = find_best_insertion_position(original_results, new_doc)\n",
    "#             if best_pos != -1:\n",
    "#                 new_results = original_results[:best_pos] + [new_doc] + original_results[best_pos:-1]\n",
    "#                 print(f\"Вставка '{new_doc['url']}' на позицию {best_pos}\")\n",
    "#                 print(f\"Новая RelDCG: {calculate_rel_dcg(new_results):.4f}\")\n",
    "#                 print(f\"Новый Revenue: {calculate_revenue(new_results):.2f}\")\n",
    "#                 original_results = new_results\n",
    "#             else:\n",
    "#                 print(f\"Документ '{new_doc['url']}' не улучшает качество\")\n",
    "\n",
    "# # Группируем для анализа\n",
    "# new_docs_by_query = {}\n",
    "# for doc in example_data['new_documents']:\n",
    "#     query = doc['query']\n",
    "#     if query not in new_docs_by_query:\n",
    "#         new_docs_by_query[query] = []\n",
    "#     new_docs_by_query[query].append(doc)\n",
    "\n",
    "# for serp in example_data['serpset']:\n",
    "#     query = serp['query']\n",
    "#     analyze_query(serp, new_docs_by_query.get(query, []))"
   ]
  }
 ],
 "metadata": {
  "kernelspec": {
   "display_name": "ysda-abweek",
   "language": "python",
   "name": "python3"
  },
  "language_info": {
   "codemirror_mode": {
    "name": "ipython",
    "version": 3
   },
   "file_extension": ".py",
   "mimetype": "text/x-python",
   "name": "python",
   "nbconvert_exporter": "python",
   "pygments_lexer": "ipython3",
   "version": "3.11.2"
  }
 },
 "nbformat": 4,
 "nbformat_minor": 2
}
